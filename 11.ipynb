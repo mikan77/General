{
 "cells": [
  {
   "cell_type": "code",
   "execution_count": 7,
   "id": "546f6ab3-f9de-4314-aad9-a0d84cb553ca",
   "metadata": {},
   "outputs": [],
   "source": [
    "import pandas as pd\n",
    "import matplotlib.pyplot as plt\n",
    "import numpy as np"
   ]
  },
  {
   "cell_type": "code",
   "execution_count": 8,
   "id": "8802b72b-d43f-4416-8d18-9360a3539365",
   "metadata": {},
   "outputs": [],
   "source": [
    "data = pd.DataFrame({\n",
    "    'V':[24.5,22.2, 18.9, 15.9, 12.6, 9.7] ,\n",
    "    't':[2,12, 22, 32, 42, 52]\n",
    "})"
   ]
  },
  {
   "cell_type": "code",
   "execution_count": 9,
   "id": "08bb04fa-7d7c-441b-8f28-5955f133808a",
   "metadata": {},
   "outputs": [
    {
     "name": "stdout",
     "output_type": "stream",
     "text": [
      "[-0.30228571 25.46171429]\n"
     ]
    },
    {
     "data": {
      "image/png": "[encoded data removed]",
      "text/plain": [
       "<Figure size 640x480 with 1 Axes>"
      ]
     },
     "metadata": {},
     "output_type": "display_data"
    }
   ],
   "source": [
    "plt.scatter(data['t'], data['V'])\n",
    "coeff = np.polyfit(data['t'], data['V'],1)\n",
    "x_fit = np.linspace(0, 52)\n",
    "y_fit = np.polyval(coeff,x_fit)\n",
    "plt.plot(x_fit, y_fit)\n",
    "plt.xlim(0,)\n",
    "plt.grid()\n",
    "plt.scatter(0, coeff[1])\n",
    "print(coeff)"
   ]
  },
  {
   "cell_type": "code",
   "execution_count": 10,
   "id": "3ff96a28-0f1f-438b-8cbd-959b5191fdcb",
   "metadata": {},
   "outputs": [],
   "source": [
    "Cx = (coeff[1]-data['V'])*0.01/50"
   ]
  },
  {
   "cell_type": "code",
   "execution_count": 11,
   "id": "395c068a-8b68-490b-bbc1-bb6e687d5bd7",
   "metadata": {},
   "outputs": [
    {
     "data": {
      "text/plain": [
       "0    0.000192\n",
       "1    0.000652\n",
       "2    0.001312\n",
       "3    0.001912\n",
       "4    0.002572\n",
       "5    0.003152\n",
       "Name: V, dtype: float64"
      ]
     },
     "execution_count": 11,
     "metadata": {},
     "output_type": "execute_result"
    }
   ],
   "source": [
    "Cx"
   ]
  },
  {
   "cell_type": "code",
   "execution_count": 12,
   "id": "b073b85c-51bc-435f-b210-21d8bc226aa7",
   "metadata": {},
   "outputs": [],
   "source": [
    "co_acetone = 0.1\n",
    "c_H = 0.1\n",
    "k = (1/(data['t']*(co_acetone+c_H)))*np.log( (co_acetone * (c_H + Cx))/(c_H * (co_acetone - Cx)) )"
   ]
  },
  {
   "cell_type": "code",
   "execution_count": 13,
   "id": "c866e52a-7dc4-477f-af06-3359c6fa6f60",
   "metadata": {},
   "outputs": [
    {
     "data": {
      "text/plain": [
       "0    0.009617\n",
       "1    0.005436\n",
       "2    0.005966\n",
       "3    0.005977\n",
       "4    0.006126\n",
       "5    0.006064\n",
       "dtype: float64"
      ]
     },
     "execution_count": 13,
     "metadata": {},
     "output_type": "execute_result"
    }
   ],
   "source": [
    "k"
   ]
  },
  {
   "cell_type": "code",
   "execution_count": 14,
   "id": "390c4a32-905b-4893-8ad7-3bb095759f06",
   "metadata": {},
   "outputs": [
    {
     "data": {
      "text/plain": [
       "0.00591375785701264"
      ]
     },
     "execution_count": 14,
     "metadata": {},
     "output_type": "execute_result"
    }
   ],
   "source": [
    "np.mean(k[1:])"
   ]
  },
  {
   "cell_type": "code",
   "execution_count": 15,
   "id": "c0d3f744-a281-4b2f-a429-bdf976a7e2fc",
   "metadata": {},
   "outputs": [
    {
     "data": {
      "text/plain": [
       "1    0.005436\n",
       "2    0.005966\n",
       "3    0.005977\n",
       "4    0.006126\n",
       "5    0.006064\n",
       "dtype: float64"
      ]
     },
     "execution_count": 15,
     "metadata": {},
     "output_type": "execute_result"
    }
   ],
   "source": [
    "k[1:]"
   ]
  },
  {
   "cell_type": "code",
   "execution_count": 16,
   "id": "c5f7c586-faad-4e0f-a4ef-1dee7ce2f40e",
   "metadata": {},
   "outputs": [],
   "source": [
    "data['Cx, ml'] = Cx\n",
    "data['k'] = k "
   ]
  },
  {
   "cell_type": "code",
   "execution_count": 17,
   "id": "5056fff5-2541-4932-9db9-4209ea9da85c",
   "metadata": {},
   "outputs": [
    {
     "name": "stdout",
     "output_type": "stream",
     "text": [
      "к средный 0.00591375785701264\n"
     ]
    },
    {
     "data": {
      "text/html": [
       "<div>\n",
       "<style scoped>\n",
       "    .dataframe tbody tr th:only-of-type {\n",
       "        vertical-align: middle;\n",
       "    }\n",
       "\n",
       "    .dataframe tbody tr th {\n",
       "        vertical-align: top;\n",
       "    }\n",
       "\n",
       "    .dataframe thead th {\n",
       "        text-align: right;\n",
       "    }\n",
       "</style>\n",
       "<table border=\"1\" class=\"dataframe\">\n",
       "  <thead>\n",
       "    <tr style=\"text-align: right;\">\n",
       "      <th></th>\n",
       "      <th>V</th>\n",
       "      <th>t</th>\n",
       "      <th>Cx, ml</th>\n",
       "      <th>k</th>\n",
       "    </tr>\n",
       "  </thead>\n",
       "  <tbody>\n",
       "    <tr>\n",
       "      <th>0</th>\n",
       "      <td>24.5</td>\n",
       "      <td>2</td>\n",
       "      <td>0.000192</td>\n",
       "      <td>0.009617</td>\n",
       "    </tr>\n",
       "    <tr>\n",
       "      <th>1</th>\n",
       "      <td>22.2</td>\n",
       "      <td>12</td>\n",
       "      <td>0.000652</td>\n",
       "      <td>0.005436</td>\n",
       "    </tr>\n",
       "    <tr>\n",
       "      <th>2</th>\n",
       "      <td>18.9</td>\n",
       "      <td>22</td>\n",
       "      <td>0.001312</td>\n",
       "      <td>0.005966</td>\n",
       "    </tr>\n",
       "    <tr>\n",
       "      <th>3</th>\n",
       "      <td>15.9</td>\n",
       "      <td>32</td>\n",
       "      <td>0.001912</td>\n",
       "      <td>0.005977</td>\n",
       "    </tr>\n",
       "    <tr>\n",
       "      <th>4</th>\n",
       "      <td>12.6</td>\n",
       "      <td>42</td>\n",
       "      <td>0.002572</td>\n",
       "      <td>0.006126</td>\n",
       "    </tr>\n",
       "    <tr>\n",
       "      <th>5</th>\n",
       "      <td>9.7</td>\n",
       "      <td>52</td>\n",
       "      <td>0.003152</td>\n",
       "      <td>0.006064</td>\n",
       "    </tr>\n",
       "  </tbody>\n",
       "</table>\n",
       "</div>"
      ],
      "text/plain": [
       "      V   t    Cx, ml         k\n",
       "0  24.5   2  0.000192  0.009617\n",
       "1  22.2  12  0.000652  0.005436\n",
       "2  18.9  22  0.001312  0.005966\n",
       "3  15.9  32  0.001912  0.005977\n",
       "4  12.6  42  0.002572  0.006126\n",
       "5   9.7  52  0.003152  0.006064"
      ]
     },
     "execution_count": 17,
     "metadata": {},
     "output_type": "execute_result"
    }
   ],
   "source": [
    "df = pd.DataFrame(data)\n",
    "print(f'к средный {np.mean(k[1:])}')\n",
    "df"
   ]
  },
  {
   "cell_type": "code",
   "execution_count": null,
   "id": "36310644-e037-4b1a-a850-ad7cda6e66be",
   "metadata": {},
   "outputs": [],
   "source": []
  }
 ],
 "metadata": {
  "kernelspec": {
   "display_name": "Python 3 (ipykernel)",
   "language": "python",
   "name": "python3"
  },
  "language_info": {
   "codemirror_mode": {
    "name": "ipython",
    "version": 3
   },
   "file_extension": ".py",
   "mimetype": "text/x-python",
   "name": "python",
   "nbconvert_exporter": "python",
   "pygments_lexer": "ipython3",
   "version": "3.12.7"
  }
 },
 "nbformat": 4,
 "nbformat_minor": 5
}
